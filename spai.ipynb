{
 "cells": [
  {
   "cell_type": "markdown",
   "id": "cb6ed08f-ccab-405f-988a-290102b35ba5",
   "metadata": {
    "tags": []
   },
   "source": [
    "#  $SPAI$: The Stock Price Artificial Intelliegence"
   ]
  },
  {
   "cell_type": "markdown",
   "id": "c3b3184a-a3a9-49d9-991b-a0691f4b2dd6",
   "metadata": {
    "tags": []
   },
   "source": [
    "## Goal:\n",
    "Develop a program that incorporates a trained-LSTM machine-learning model in order to predict stock prices and automate profitable trades on the Alpaca API."
   ]
  },
  {
   "cell_type": "markdown",
   "id": "a739c651-e429-498f-995d-2be461065487",
   "metadata": {
    "tags": []
   },
   "source": [
    "## Hypothesis"
   ]
  },
  {
   "cell_type": "markdown",
   "id": "0f20f47c-1d14-40e5-aee5-45082128f79b",
   "metadata": {
    "tags": []
   },
   "source": [
    "By training an LTSM tenserflow model to predict stock prices then we can accurately make profitible trades"
   ]
  },
  {
   "cell_type": "markdown",
   "id": "d72bf941-7d08-4e99-85bf-0e3c5edf36d7",
   "metadata": {
    "tags": []
   },
   "source": [
    "## Project Overview"
   ]
  },
  {
   "cell_type": "markdown",
   "id": "750f6470-47ff-45d1-8e0c-2c8d89cef3fb",
   "metadata": {
    "tags": []
   },
   "source": [
    "1. init data - creates prices csv files\n",
    "2. tensorflow model - creates prediction csv files\n",
    "3. trading sim - simulates a trading period with historic price data and makes trades based on AI prediction set"
   ]
  },
  {
   "cell_type": "markdown",
   "id": "b5fdc967-0c1e-44b1-be6a-c4faeeecebdd",
   "metadata": {
    "tags": []
   },
   "source": [
    "## Data Collection Process"
   ]
  },
  {
   "cell_type": "markdown",
   "id": "32f89079-e77a-40b9-b333-8a6e315451d3",
   "metadata": {
    "tags": []
   },
   "source": [
    " - Analyzing verified CSV's collected directly from NYSE \n",
    " - Measures: Open and Close Price, High, Low, and Volume\n",
    " - Main Objective: **Track Price Over Time**\n",
    " "
   ]
  },
  {
   "cell_type": "markdown",
   "id": "2bf623ea-967e-4bce-b6ab-7ec39bca2947",
   "metadata": {},
   "source": [
    "## Normalization"
   ]
  },
  {
   "cell_type": "markdown",
   "id": "5227f405-2509-444b-9c3e-e5f9ae02515e",
   "metadata": {},
   "source": [
    "- Used to scale and standardize numerical features of a dataset to a common range, often between 0 and 1\n",
    "- Helps to prevent features with larger values from dominating the algorithm\n",
    "- Ensures that all features contribute equally to the analysis"
   ]
  },
  {
   "cell_type": "markdown",
   "id": "011bbf35-8d1b-41bc-9380-6a5936097be6",
   "metadata": {
    "tags": []
   },
   "source": [
    "## Alpaca API"
   ]
  },
  {
   "cell_type": "markdown",
   "id": "9e325e16-f224-4c26-860f-dfc9355ac2fa",
   "metadata": {
    "tags": []
   },
   "source": [
    "- Provides easy access to financial market data and brokerage services\n",
    "- Designed to help developers build trading algorithms, analyze financial markets, and manage their portfolio\n",
    "- Connect applications and build algorithms to buy and sell stocks or crypto.\n"
   ]
  },
  {
   "cell_type": "markdown",
   "id": "d0ce259f-9094-4189-a3b8-7fac6dd3d216",
   "metadata": {
    "tags": []
   },
   "source": [
    "## LTSM (Long short-term memory)"
   ]
  },
  {
   "cell_type": "markdown",
   "id": "48674e77-17f2-4913-8fa4-cf8b20186a3a",
   "metadata": {
    "tags": []
   },
   "source": [
    "- In an LSTM, the network learns to selectively \"forget\" or \"remember\" information from previous time steps, which allows it to capture long-term dependencies in the input sequence.\n",
    "- Independent training and validation models used to make predictions based on our testing data and will then be implemented in a trading environment\n",
    "- The specific design of the LTSM that we used has three LTSM layers that each have a dropvout post layer with a dropout value of 0.2.\n",
    "- Ths means theres a drop out function that goes into last ltsm layer and deletes an overconfidence gradient\n",
    "- One final output layer\n",
    "- Optimizer: Adam \n"
   ]
  },
  {
   "cell_type": "markdown",
   "id": "5d9b88fa",
   "metadata": {},
   "source": [
    "## Training"
   ]
  },
  {
   "cell_type": "markdown",
   "id": "26df8c9e",
   "metadata": {},
   "source": [
    "- All models trained with 150 epox\n",
    "- Batch sizes 32"
   ]
  },
  {
   "cell_type": "code",
   "execution_count": null,
   "id": "0f04f5b0",
   "metadata": {},
   "outputs": [],
   "source": [
    "from matplotlib import pyplot as plt\n",
    "from matplotlib import image as mpimg"
   ]
  },
  {
   "cell_type": "markdown",
   "id": "84d7a37b",
   "metadata": {},
   "source": [
    "## Predictions\n",
    "### ATVI\n",
    "![](data/img/atvi.png)\n",
    "\n",
    "### F\n",
    "![](data/img/f.png)\n",
    "\n",
    "### TSLA\n",
    "![](data/img/tsla.png)\n"
   ]
  },
  {
   "cell_type": "markdown",
   "id": "bbf4e1f8-d6a8-4600-9d22-f39e22133b4e",
   "metadata": {
    "tags": []
   },
   "source": [
    "## Simulation\n",
    "- Create an enviornment where two simulations \n",
    "- One simulating the actions of dollar cost averaging and the actoins of **predict cost averaging**: \n",
    "- Succesfully created simulated trading enviornment in python that uses historical datasets, analayzed by the prediction set.\n",
    "- we have a simulation enviornment in python that uses hsitorical data for prediction sets we generated\n",
    "- Both trading algorithms return portfolio value / time functions that we are able toe graph"
   ]
  },
  {
   "cell_type": "code",
   "execution_count": null,
   "id": "41f0dd23",
   "metadata": {},
   "outputs": [],
   "source": [
    "ACTVIf = mpimg.imread(\"atvi-fin.png\")\n",
    "plt.imshow(ATVIf)\n",
    "plt.show()\n",
    "\n",
    "Ff = mpimg.imread(\"f-fin.png\")\n",
    "plt.imshow(Ff)\n",
    "plt.show()\n",
    "\n",
    "TSLAf = mpimg.imread(\"tsla-fin.png\")\n",
    "plt.imshow(TSLAf)\n",
    "plt.show()"
   ]
  },
  {
   "cell_type": "markdown",
   "id": "f8366405",
   "metadata": {},
   "source": [
    "## Portfolio value\n",
    "\n",
    "### ATVI\n",
    "![](data/img/atvi-fin.png)\n",
    "\n",
    "### F\n",
    "![](data/img/f-fin.png)\n",
    "\n",
    "### TSLA\n",
    "![](data/img/tsla-fin.png)"
   ]
  },
  {
   "cell_type": "markdown",
   "id": "2a5decfa-0524-4ee4-9bd2-e8d320a39f24",
   "metadata": {},
   "source": [
    "## Results"
   ]
  },
  {
   "cell_type": "markdown",
   "id": "0574d41c",
   "metadata": {},
   "source": [
    "DCA TSLA -> $11082.97\n",
    "\n",
    "PCA TSLA -> $12273.26\n",
    "\n",
    "DCA ACTVI -> $9612.54\n",
    "\n",
    "PCA ACTVI -> $9758.46\n",
    "\n",
    "DCA F -> $10038.6\n",
    "\n",
    "PCA F -> $11148.37"
   ]
  },
  {
   "cell_type": "markdown",
   "id": "c023b05f-930f-495c-953f-37bdfa59d6b7",
   "metadata": {},
   "source": [
    "## Conclusions"
   ]
  },
  {
   "cell_type": "code",
   "execution_count": null,
   "id": "15d2fc6e-6ca8-469f-9649-f6c14508dacc",
   "metadata": {},
   "outputs": [],
   "source": []
  }
 ],
 "metadata": {
  "kernelspec": {
   "display_name": "Python 3.8.8 ('base')",
   "language": "python",
   "name": "python3"
  },
  "language_info": {
   "codemirror_mode": {
    "name": "ipython",
    "version": 3
   },
   "file_extension": ".py",
   "mimetype": "text/x-python",
   "name": "python",
   "nbconvert_exporter": "python",
   "pygments_lexer": "ipython3",
   "version": "3.8.8"
  },
  "vscode": {
   "interpreter": {
    "hash": "11140769e12dea94c222fb9f02bbede7fa734376e2a426d5fbf5a6faf559b741"
   }
  }
 },
 "nbformat": 4,
 "nbformat_minor": 5
}
