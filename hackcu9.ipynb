{
 "cells": [
  {
   "cell_type": "markdown",
   "id": "cb6ed08f-ccab-405f-988a-290102b35ba5",
   "metadata": {
    "tags": []
   },
   "source": [
    "#  $SPAI$: The Stock Price Artificial Intelliegence"
   ]
  },
  {
   "cell_type": "code",
   "execution_count": null,
   "id": "2fe36e74-3aff-4f1b-86f6-a5e54cde36a6",
   "metadata": {},
   "outputs": [],
   "source": []
  },
  {
   "cell_type": "markdown",
   "id": "c3b3184a-a3a9-49d9-991b-a0691f4b2dd6",
   "metadata": {
    "tags": []
   },
   "source": [
    "## Goal:\n",
    "Develop a program that incorporates a trained-LSTM machine-learning model in order to predict stock prices and automate profitable trades on the Alpaca API."
   ]
  },
  {
   "cell_type": "markdown",
   "id": "a739c651-e429-498f-995d-2be461065487",
   "metadata": {
    "tags": []
   },
   "source": [
    "## Hypothesis"
   ]
  },
  {
   "cell_type": "markdown",
   "id": "0f20f47c-1d14-40e5-aee5-45082128f79b",
   "metadata": {
    "tags": []
   },
   "source": [
    "By training an LTSM tenserflow model to predict stock prices then we can accurately make profitible trades"
   ]
  },
  {
   "cell_type": "markdown",
   "id": "d72bf941-7d08-4e99-85bf-0e3c5edf36d7",
   "metadata": {
    "tags": []
   },
   "source": [
    "## Project Overview"
   ]
  },
  {
   "cell_type": "markdown",
   "id": "750f6470-47ff-45d1-8e0c-2c8d89cef3fb",
   "metadata": {
    "tags": []
   },
   "source": [
    "1. Data collection - Set up methods to retrieve necessary data from the Alpaca API\n",
    "2. Data cleaning - Convert raw data into a format that can be used by AI model\n",
    "3. LSTM model training - Train a tensorflow LSTM on clean data\n",
    "4. LSTM testing - Test the AI with a validation dataset\n",
    "5. Trading algorithm - Use AI predictions to make a profitable trading algorithm\n",
    "6. Backtest and paper trading - Test trading algorithm on historic data and/or other simulated environments"
   ]
  },
  {
   "cell_type": "markdown",
   "id": "b5fdc967-0c1e-44b1-be6a-c4faeeecebdd",
   "metadata": {
    "tags": []
   },
   "source": [
    "## Data Collection Process"
   ]
  },
  {
   "cell_type": "markdown",
   "id": "32f89079-e77a-40b9-b333-8a6e315451d3",
   "metadata": {
    "tags": []
   },
   "source": [
    " - Analyzing verified CSV's collected directly from NYSE \n",
    " - Measures: Open and Close Price, High, Low, and Volume\n",
    " - Main Objective: **Track Price Over Time**\n",
    " "
   ]
  },
  {
   "cell_type": "markdown",
   "id": "2bf623ea-967e-4bce-b6ab-7ec39bca2947",
   "metadata": {},
   "source": [
    "## Normalization"
   ]
  },
  {
   "cell_type": "markdown",
   "id": "5227f405-2509-444b-9c3e-e5f9ae02515e",
   "metadata": {},
   "source": [
    "- Used to scale and standardize numerical features of a dataset to a common range, often between 0 and 1\n",
    "- Helps to prevent features with larger values from dominating the algorithm\n",
    "- Ensures that all features contribute equally to the analysis"
   ]
  },
  {
   "cell_type": "markdown",
   "id": "011bbf35-8d1b-41bc-9380-6a5936097be6",
   "metadata": {
    "tags": []
   },
   "source": [
    "## Alpaca API"
   ]
  },
  {
   "cell_type": "markdown",
   "id": "9e325e16-f224-4c26-860f-dfc9355ac2fa",
   "metadata": {
    "tags": []
   },
   "source": [
    "- Provides easy access to financial market data and brokerage services\n",
    "- Designed to help developers build trading algorithms, analyze financial markets, and manage their portfolio\n",
    "- Connect applications and build algorithms to buy and sell stocks or crypto.\n"
   ]
  },
  {
   "cell_type": "markdown",
   "id": "d0ce259f-9094-4189-a3b8-7fac6dd3d216",
   "metadata": {
    "tags": []
   },
   "source": [
    "## LTSM (Long short-term memory)"
   ]
  },
  {
   "cell_type": "markdown",
   "id": "48674e77-17f2-4913-8fa4-cf8b20186a3a",
   "metadata": {
    "tags": []
   },
   "source": [
    "- In an LSTM, the network learns to selectively \"forget\" or \"remember\" information from previous time steps, which allows it to capture long-term dependencies in the input sequence.\n",
    "- Independent training and validation models used to make predictions based on our testing data"
   ]
  },
  {
   "cell_type": "markdown",
   "id": "bbf4e1f8-d6a8-4600-9d22-f39e22133b4e",
   "metadata": {
    "tags": []
   },
   "source": [
    "## "
   ]
  },
  {
   "cell_type": "markdown",
   "id": "624cee04-486e-406d-a976-d51945fd04ea",
   "metadata": {
    "tags": []
   },
   "source": []
  },
  {
   "cell_type": "markdown",
   "id": "2a5decfa-0524-4ee4-9bd2-e8d320a39f24",
   "metadata": {},
   "source": [
    "## Compare Accuracy"
   ]
  },
  {
   "cell_type": "markdown",
   "id": "6e1e7937-8dae-4bd2-8834-f0841bf56756",
   "metadata": {},
   "source": []
  },
  {
   "cell_type": "markdown",
   "id": "c023b05f-930f-495c-953f-37bdfa59d6b7",
   "metadata": {},
   "source": [
    "## Conclusions"
   ]
  },
  {
   "cell_type": "code",
   "execution_count": null,
   "id": "15d2fc6e-6ca8-469f-9649-f6c14508dacc",
   "metadata": {},
   "outputs": [],
   "source": []
  }
 ],
 "metadata": {
  "kernelspec": {
   "display_name": "Python 3",
   "language": "python",
   "name": "python3"
  },
  "language_info": {
   "codemirror_mode": {
    "name": "ipython",
    "version": 3
   },
   "file_extension": ".py",
   "mimetype": "text/x-python",
   "name": "python",
   "nbconvert_exporter": "python",
   "pygments_lexer": "ipython3",
   "version": "3.8.8"
  }
 },
 "nbformat": 4,
 "nbformat_minor": 5
}
